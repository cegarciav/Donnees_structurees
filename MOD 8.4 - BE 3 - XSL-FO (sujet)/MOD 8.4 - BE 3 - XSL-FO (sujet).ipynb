{
 "cells": [
  {
   "cell_type": "markdown",
   "metadata": {},
   "source": [
    "# <center>MOD 8.4 - Représentation et manipulation de données structurées - BE 3</center>\n",
    "\n",
    "## <center style=\"color: #66d\">Transformation XSLT, format XSL-FO, et document pdf.</center>\n",
    "\n",
    "### 1. Informations générales\n",
    "\n",
    "#### 1.1 Déroulement de la séance\n",
    "\n",
    "Comme pour les séances précédentes, ce travail est à effectuer par binômes. Les binômes peuvent être les mêmes que pour l'un des BE précédents ou être recomposés pour l'occasion. Dans ce cas, merci de signaler s'il faut créer des groupes supplémentaires sur la plateforme pédagogique pour inscrire votre nouveau binôme.\n",
    "\n",
    "Les livrables qui vous seront demandés pour ce BE devront encore une fois être zippés _(format zip uniquement - toujours pas de formats de compression exotiques)_ et déposés sur la plateforme pédagogique dans la zone Travaux, dans l'espace réservé au BE n°3.\n",
    "\n",
    "#### 1.2 Compte-rendu\n",
    "\n",
    "Le compte-rendu sera fait comme d'habitude au format jupyter notebook.\n",
    "Il devra évidemment comporter tous les liens nécessaires pour consulter les documents réalisés _(cf. questions suivantes)_ sous tous les aspects pertinents _(code source, validation, transformation...)_. Seuls les documents accessibles sous forme de liens depuis le compte-rendu seront pris en compte lors de la correction.\n",
    "\n",
    "#### 1.3 Forme des documents produits.\n",
    "\n",
    "Le degré de finition des documents demandés devra correspondre à des standards professionnels."
   ]
  },
  {
   "cell_type": "markdown",
   "metadata": {},
   "source": [
    "### 2. Prise en main de XSL-FO et installation de Apache fop\n",
    "\n",
    "Le travail demandé au cours de ce BE consiste à transformer les documents XML fournis pour obtenir d'abord un document XSL-FO à l'aide d'une feuille de style XSLT, puis un rapport papier au format <tt>pdf</tt> à l'aide de l'outil \"fop\" (Apache Formatting Objects Processor).\n",
    "\n",
    "#### 2.1 Prise en main de XSL-FO.\n",
    "\n",
    "Consulter le <a href=\"http://dmolinarius.github.io/demofiles/mod-84/xslfo.pdf\">cours sur XSL-FO</a>, puis :\n",
    "\n",
    "__Q1. Développer une première feuille de style XSL-FO :__\n",
    "<div style=\"background-color:#d8d8ff;padding:10px;border-radius:3px\">\n",
    "Créer une feuille de style XSLT nommée <a href=\"question-1.xsl\"><tt>question-1.xsl</tt></a> qui transforme n'importe quel document XML en un document XSL-FO (toujours le même, quel que soit le contenu du document XML transformé) contenant le message \"hello, world\".\n",
    "</div>\n",
    "\n",
    "<div style=\"background-color:#c7ffd6;padding:10px;border-radius:3px\">\n",
    "    <h3>Première feuille de style XSL-FO</h3>\n",
    "    \n",
    "Pour cette première feuille de style XSL-FO, nous avons créé le document plus simple possible, et donc celui qui a les éléments minimaux qui sont nécessaires pour la syntaxe XSL-FO. Alors, la feuille développé consiste en :\n",
    "<ol>\n",
    "    <li>La racine <b><i>root</i></b> du document</li>\n",
    "    <li>L'élément <b><i>layout-master-set</i></b> avec le modèle de la page défini par <b><i>simple-page-master</i></b> et <b><i>region-body</i></b></li>\n",
    "    <li>L'élément <b><i>page-sequence</i></b> qui fait référence au modèle et qui a le message <b><i>Hello World!</i></b> demandé</li>\n",
    "</ol>\n",
    "</div>"
   ]
  },
  {
   "cell_type": "markdown",
   "metadata": {},
   "source": [
    "\n",
    "__Q2. Créer un premier document XSL-FO :__\n",
    "<div style=\"background-color:#d8d8ff;padding:10px;border-radius:3px\">\n",
    "Implémenter la transformation XSLT d'un document XML via votre feuille de style, à l'aide d'un programme de votre choix (suggestion : python via le présent notebook) et admirer le résultat obtenu dans un fichier qui sera nommé <a href=\"question-1.fo\"><tt>question-1.fo</tt></a>\n",
    "</div>\n",
    "\n",
    "<div style=\"background-color:#c7ffd6;padding:10px;border-radius:3px\">\n",
    "    <h3>Création d'un premier document XSL-FO</h3>\n",
    "Tout d'abord, pour rendre plus facile la création des fichiers XSL-FO, nous avons créé la fonction Python <b><i>xml2xslfo</i></b> définie dans la celule suivante. En utilisant la bibliothèque <b><i>lxml</i></b>, nous faisons la transformation du fichier <b><i>xml_file</i></b> par la feuille de style <b><i>xsl_file</i></b> pour obtenir le document <b><i>output_name</i></b>. Cette fonction sera utilisé au cours du BE pour obtenir les fichiers XSL-FO demandés. Pour les cas où il est utile de donner des paramètres au moteur XSLT, nous avons ajouté à <b><i>xml2xslfo</i></b> le paramètre optionnel <b>params</b>, qui est un dictionnaire qui sera utilisé au moment de la transformation.\n",
    "</div>"
   ]
  },
  {
   "cell_type": "code",
   "execution_count": 77,
   "metadata": {
    "util.bundle": "correcteur"
   },
   "outputs": [],
   "source": [
    "from datetime import datetime\n",
    "from lxml import etree\n",
    "\n",
    "def xml2xslfo(xml_file, xsl_file, output_name=\"\", params={}):\n",
    "    '''\n",
    "        Fonction pour transformer le fichier XML \"xml_file\" dans\n",
    "        le fichier XML \"output_name\" avec du code XSL-FO en utilisant\n",
    "        la feuille de style XSL \"xsl_file\". La fonction n'est pas faite\n",
    "        pour gerer des erreurs. Elle est utilisee dans le cadre d'un\n",
    "        BE et alors nous attendons des inputs correctes selon le\n",
    "        contexte.\n",
    "    '''\n",
    "\n",
    "    #creation d'un nom par defaut pour le fichier de sortie\n",
    "    if output_name == \"\":\n",
    "        ext_pos = xml_file.rfind(\".\")\n",
    "        if ext_pos != -1:\n",
    "            output_name = xml_file[:ext_pos] + \".fo\"\n",
    "        else:\n",
    "            output_name = xml_file + \".fo\"\n",
    "            \n",
    "    #transformation en utilisant les outils du module lxml\n",
    "    original_xml = etree.parse(xml_filename)\n",
    "    xsl = etree.parse(xsl_filename)\n",
    "    transform = etree.XSLT(xsl)\n",
    "    if len(params) > 0:\n",
    "        new_xml = transform(original_xml, **params)\n",
    "    else:\n",
    "        new_xml = transform(original_xml)\n",
    "\n",
    "    #arbre XML a ecrire\n",
    "    output_xml = etree.tostring(new_xml, encoding=\"utf-8\")\n",
    "\n",
    "    # ecriture du fichier html\n",
    "    with open(output_name, 'wb') as file:\n",
    "        file.write(output_xml)\n"
   ]
  },
  {
   "cell_type": "markdown",
   "metadata": {},
   "source": [
    "<div style=\"background-color:#c7ffd6;padding:10px;border-radius:3px\">\n",
    "Maintenant, nous utilisons la fonction pour obtenir le fichier <a href=\"question-1.fo\"><tt>question-1.fo</tt></a> provenant du document XML <a href=\"regularite-mensuelle-tgv.xml\"><tt>regularite-mensuelle-tgv.xml</tt></a> et de la feuille de style minimale <a href=\"question-1.xsl\"><tt>question-1.xsl</tt></a>\n",
    "</div>"
   ]
  },
  {
   "cell_type": "code",
   "execution_count": 15,
   "metadata": {
    "util.bundle": "correcteur"
   },
   "outputs": [],
   "source": [
    "# définition des noms des fichiers\n",
    "xml_filename = 'regularite-mensuelle-tgv.xml'\n",
    "xsl_filename = 'question-1.xsl'\n",
    "\n",
    "#appel de la fonction\n",
    "xml2xslfo(xml_filename, xsl_filename, \"question-1.fo\")"
   ]
  },
  {
   "cell_type": "markdown",
   "metadata": {},
   "source": [
    "#### 2.2 Installation et utilisation de Apache FOP.\n",
    "\n",
    "__Q3. Obtenir un document pdf :__\n",
    "<div style=\"background-color:#eef;padding:10px;border-radius:3px\">\n",
    "Installer <a href=\"https://xmlgraphics.apache.org/fop/\">Apache FOP</a> et transformer le document <tt>question-1.fo</tt> pour obtenir <a href=\"question-1.pdf\"><tt>question-1.pdf</tt></a>.\n",
    "</div>\n",
    "\n",
    "Exemple de fonction réalisant la transformation depuis le notebook :"
   ]
  },
  {
   "cell_type": "code",
   "execution_count": 9,
   "metadata": {},
   "outputs": [
    {
     "name": "stdout",
     "output_type": "stream",
     "text": [
      "[warning] /usr/bin/fop: JVM flavor 'sun' not understood\n",
      "\n"
     ]
    }
   ],
   "source": [
    "# fonction pour lancer la transformation fop\n",
    "def run_fop(filename):\n",
    "    import sys\n",
    "    import os.path\n",
    "    import subprocess\n",
    "\n",
    "    # nom des fichiers\n",
    "    fo = \"{}.fo\".format(filename)\n",
    "    pdf =\"{}.pdf\".format(filename)\n",
    "\n",
    "    # le fichier .fo n'existe pas\n",
    "    if not os.path.isfile(fo):\n",
    "        print(\"Could not find {}\".format(fo))\n",
    "        return None\n",
    "\n",
    "    # appel de fop (ajuster éventuellement le chemin d'accès à l'exécutable et au fichier de configuration)\n",
    "    args = [\"fop\", \"-c\", \"C:\\Program Files (x86)\\\\fop-2.2\\\\fop\\\\conf\\\\fop.xconf\", fo, pdf]\n",
    "    '''\n",
    "        Nous avons essayé d'adapter cette fonction pour l'utiliser sur la machine Ubuntu\n",
    "        où nous avons travaillé. La définition des arguments ci-dessous semble d'être\n",
    "        pertinente, cependant, la fonction n'a pas marché de toute manière\n",
    "    '''\n",
    "    #args = [\"fop\", \"-fo\", fo, \"-pdf\", pdf]\n",
    "    return subprocess.run(args,shell=True,stderr=subprocess.PIPE)\n",
    "    \n",
    "# On effectue la transformation\n",
    "r = run_fop('question-1')\n",
    "print(r.stderr.decode('iso-8859-1'))"
   ]
  },
  {
   "cell_type": "code",
   "execution_count": 13,
   "metadata": {},
   "outputs": [
    {
     "name": "stdout",
     "output_type": "stream",
     "text": [
      "[warning] /usr/bin/fop: JVM flavor 'sun' not understood\n",
      "[INFO] FOUserAgent - Rendered page #1.\n"
     ]
    }
   ],
   "source": [
    "# Méthode alternative pour lancer fop\n",
    "!fop -fo question-1.fo -pdf question-1.pdf"
   ]
  },
  {
   "cell_type": "markdown",
   "metadata": {},
   "source": [
    "<div style=\"background-color:#c7ffd6;padding:10px;border-radius:3px\">\n",
    "    <h3>Obtention d'un document PDF provenant d'un document XSL-FO</h3>\n",
    "Une fois installé l'outil FOP, nous souhaitons de obtenir le document PDF <a href=\"question-1.pdf\"><tt>question-1.pdf</tt></a> selon la définition du fichier XSL-FO <a href=\"question-1.fo\"><tt>question-1.fo</tt></a> que nous venons de créer. Nous avons testé la fonction Python fournie <b><i>run_fop</i></b>, et même essayé de la modifier compte tenu de notre système d'exploitation Ubuntu 18.04. Cependant, le résultat a été toujours une erreur provenant de la JVM. Dans un deuxième approche et compte tenu que nous avons réussi à utiliser FOP directement dans la console de commandes de notre ordinateur, nous avons essayé d'utiliser la commande proposée dans le BE (celulle ci-dessus) qui va précisément vers la console de commandes. Si bien nous avons reçu également le message d'erreur de la JVM, cette fois le fichier PDF a été bien créé. Nous ne sommes pas arrivés à trouver les motifs de ce comportement, mais notre hypothèse est que le notebook a un problème de droits sur Ubuntu. De toute manière, la partie importante ici est que le fichier PDF a été créé de manière satisfaisante.\n",
    "</div>"
   ]
  },
  {
   "cell_type": "markdown",
   "metadata": {},
   "source": [
    "### 3. Création d'un rapport\n",
    "\n",
    "Maintenant que la chaîne de production est maîtrisée, l'objectif sera de créer un rapport au format <tt>pdf</tt>, à partir \n",
    "du document <a href=\"regularite-mensuelle-tgv.xml\"><tt>regularite-mensuelle-tgv.xml</tt></a> fourni avec le sujet, dont la structure générale est la suivante :"
   ]
  },
  {
   "cell_type": "raw",
   "metadata": {},
   "source": [
    "<regularite-tgv>\n",
    "  <axe nom=\"Nord\">\n",
    "    <gare-depart nom=\"PARIS NORD\">\n",
    "      <gare-arrivee nom=\"DOUAI\">\n",
    "        <mesure annee=\"2014\" mois=\"03\" trains-prevus=\"196\" trains-ok=\"196\" annules=\"0\" retards=\"11\" regularite=\"94.4\" commentaire=\"\"/>\n",
    "        ...\n",
    "      </gare-arrivee>\n",
    "      ...\n",
    "    </gare-depart>\n",
    "    ...\n",
    "  </axe>\n",
    "</regularite-tgv>\n",
    "      \n",
    "        "
   ]
  },
  {
   "cell_type": "markdown",
   "metadata": {},
   "source": [
    "__Q4. Liste des axes :__\n",
    "<div style=\"background-color:#eef;padding:10px;border-radius:3px\">\n",
    "Développer une feuille de style XSL qui transforme ce document de manière à obtenir un document <tt>pdf</tt> listant le nom des axes sous forme de titres.\n",
    "</div>\n",
    "\n",
    "On nommera respectivement les documents demandés\n",
    "<a href=\"question-4.xsl\"><tt>question-4.xsl</tt></a>,\n",
    "<a href=\"question-4.fo\"><tt>question-4.fo</tt></a> et\n",
    "<a href=\"question-4.pdf\"><tt>question-4.pdf</tt></a>.\n",
    "\n",
    "<div style=\"background-color:#c7ffd6;padding:10px;border-radius:3px\">\n",
    "    <h3>Liste des axes</h3>\n",
    "Dans ce cas-là, nous avons commencé a générer ce qui correspondra à la fin à un rapport. Cette première partie consiste en faire une liste des axes qui apparaissent dans le document XML <b>regularite-mensuelle-tgv.xml</b> que nous allons utiliser. La structure du document est encore assez simple : nous utilisons la même mise en page de l'exercice antérieur (feuille A4, marges definis), mais à la place du messsage <b>Hello World!</b> nous utilisons XSLT et XPath pour obtenir les noms des axes et remplir le document. Les deux cellules suivantes sont le code à utiliser pour obtenir le fichier XSL-FO <a href=\"question-4.fo\"><tt>question-4.fo</tt></a> et le PDF <a href=\"question-4.pdf\"><tt>question-4.pdf</tt></a> correspondants à partir de la feuille de style <a href=\"question-4.xsl\"><tt>question-4.xsl</tt></a>.\n",
    "</div>"
   ]
  },
  {
   "cell_type": "code",
   "execution_count": 27,
   "metadata": {
    "scrolled": false,
    "util.bundle": "correcteur"
   },
   "outputs": [],
   "source": [
    "# définition des noms des fichiers\n",
    "xml_filename = 'regularite-mensuelle-tgv.xml'\n",
    "xsl_filename = 'question-4.xsl'\n",
    "\n",
    "#appel de la fonction xml2xslfo précédement développée\n",
    "xml2xslfo(xml_filename, xsl_filename, \"question-4.fo\")"
   ]
  },
  {
   "cell_type": "code",
   "execution_count": 28,
   "metadata": {},
   "outputs": [
    {
     "name": "stdout",
     "output_type": "stream",
     "text": [
      "[warning] /usr/bin/fop: JVM flavor 'sun' not understood\n",
      "[INFO] FOUserAgent - Rendered page #1.\n"
     ]
    }
   ],
   "source": [
    "# création du PDF en utilisant la console de commandes\n",
    "!fop -fo question-4.fo -pdf question-4.pdf"
   ]
  },
  {
   "cell_type": "markdown",
   "metadata": {},
   "source": [
    "__Q5. Page de titre :__\n",
    "<div style=\"background-color:#eef;padding:10px;border-radius:3px\">\n",
    "Ajouter une page de titre. En profiter pour mentionner vos noms. Noter qu'il est en général possible de passer des variables au moteur XSLT\n",
    "(cf. <a href=\"http://lxml.de/xpathxslt.html#stylesheet-parameters\">lxml</a>),\n",
    "ce qui peut faciliter entre autres l'affichage de la date d'impression.\n",
    "</div>\n",
    "\n",
    "Les documents demandés seront nommés\n",
    "<a href=\"question-5.xsl\"><tt>question-5.xsl</tt></a>,\n",
    "<a href=\"question-5.fo\"><tt>question-5.fo</tt></a> et\n",
    "<a href=\"question-5.pdf\"><tt>question-5.pdf</tt></a>.\n",
    "\n",
    "<div style=\"background-color:#c7ffd6;padding:10px;border-radius:3px\">\n",
    "    <h3>Page de titre</h3>\n",
    "Tout rapport contient une page différente au début qui contient le titre du rapport ainsi que des autres details comme les noms des auteurs. Du fait que normalement ce type de page a des caractéristiques uniques par rapport aux pages de contenu, nous avons créé un nouveu modèle du type <b>simple-page-master</b> appelé <b>title-page</b>. Ce modèle a des petits différences, comme par exemple la définition de la region <b>region-after</b>. D'un autre côté, le modèle défini pour le contenu dans la question 4 a été modifié : maintenant nous utilisons la region <b>region-before</b> pour ajouter un en-tête avec le titre du rapport et les noms des autors. En ce qui concerne le contenu des pages, pour la page de titre nous avons ajouté une image SVG du TGV que nous avons trouvé dans l'Internet : <a href=\"https://upload.wikimedia.org/wikipedia/commons/8/8d/Logo_TGV.svg\">Icon TGV</a>. Cependant, nous l'avons modifié un peu selon nos intérêt de style. Les deux cellules suivantes sont le code à utiliser pour obtenir le fichier XSL-FO <a href=\"question-5.fo\"><tt>question-5.fo</tt></a> et le PDF <a href=\"question-5.pdf\"><tt>question-5.pdf</tt></a> correspondants à partir de la feuille de style <a href=\"question-5.xsl\"><tt>question-5.xsl</tt></a>.\n",
    "</div>"
   ]
  },
  {
   "cell_type": "code",
   "execution_count": 103,
   "metadata": {
    "util.bundle": "correcteur"
   },
   "outputs": [
    {
     "name": "stdout",
     "output_type": "stream",
     "text": [
      "[warning] /usr/bin/fop: JVM flavor 'sun' not understood\n",
      "[INFO] FOUserAgent - Rendered page #1.\n",
      "[INFO] FOUserAgent - Rendered page #2.\n"
     ]
    }
   ],
   "source": [
    "# définition des noms des fichiers\n",
    "xml_filename = 'regularite-mensuelle-tgv.xml'\n",
    "xsl_filename = 'question-5.xsl'\n",
    "\n",
    "#current date\n",
    "datetime_val = datetime.now()\n",
    "current_date = f\"{datetime_val.day}-{datetime_val.month}-{datetime_val.year}\"\n",
    "#string pour éviter la reste des valeurs jour - mois - an\n",
    "current_date = etree.XSLT.strparam(current_date)\n",
    "\n",
    "'''\n",
    "    Appel de la fonction xml2xslfo précédement développée.\n",
    "    On utilise l'option params de la fonction pour donner\n",
    "    la date de modification.\n",
    "'''\n",
    "xml2xslfo(xml_filename, xsl_filename, \"question-5.fo\", {\"date\" : current_date})\n",
    "\n",
    "# création du PDF en utilisant la console de commandes\n",
    "!fop -fo question-5.fo -pdf question-5.pdf"
   ]
  },
  {
   "cell_type": "markdown",
   "metadata": {},
   "source": [
    "__Q6. Statistiques :__\n",
    "<div style=\"background-color:#eef;padding:10px;border-radius:3px\">\n",
    "Pour chacun des couples gare de départ / gare d'arrivée, créer un tableau avec les statistiques de la ligne, en évitant que les tableaux puissent être coupés par un saut de page. Ne pas oublier d'afficher les statistiques dans l'ordre du calendrier, et non pas dans l'ordre du document source...\n",
    "</div>\n",
    "\n",
    "Les documents demandés seront nommés\n",
    "<a href=\"question-6.xsl\"><tt>question-6.xsl</tt></a>,\n",
    "<a href=\"question-6.fo\"><tt>question-6.fo</tt></a> et\n",
    "<a href=\"question-6.pdf\"><tt>question-6.pdf</tt></a>.\n",
    "\n",
    "<div style=\"background-color:#c7ffd6;padding:10px;border-radius:3px\">\n",
    "    <h3>Tableaux des statistiques</h3>\n",
    "Une fois la page de titre faite, il faut remplir le rapport avec son contenu. Pour pouvoir montrer les statistiques, nous avons utilisé la balise <b>fo:table</b> fournie par XSL-FO. Évidemment, les tableaux doivent avoir certaines caractéristiques de style pour être affichés de manière plus lisible. Nous avons décidé de faire les bords en noir et les cellules des en-têtes en rouge pour les différencier du contenu. Alors, pour éviter que les tableaux soient coupés en différentes pages, nous avons utilisé l'attribut <b>page-break-inside</b> avec la valeur <b>\"avoid\"</b> dans chaque bloc contenant un titre avec le couple \"gare de départ - gare d'arrivée\" et son respectif tableau. De cette manière nous empêchons que le titre d'un tableau soit dans une page différente du tableau. Finalement, un dernier détail que nous avons ajouté est que chaque axe doit commencer dans une nouvelle page et pas à la moitié d'une autre. Si bien cela n'est pas demandé, nous avons pensé que pour un sujet d'ordre et de style du rapport. Les deux cellules suivantes sont le code à utiliser pour obtenir le fichier XSL-FO <a href=\"question-6.fo\"><tt>question-6.fo</tt></a> et le PDF <a href=\"question-6.pdf\"><tt>question-6.pdf</tt></a> correspondants à partir de la feuille de style <a href=\"question-6.xsl\"><tt>question-6.xsl</tt></a>.<br>\n",
    "Un petit détail concernant le code (et pas l'apparence du document final) : nous avons utilisé des templates només pour améliorer la visibilité du code. Par exemple, le template appelé <b>row4table</b> contient le code pour faire une <b>fo:table-row</b> les paramétre fournis. Si bien à niveau de quantité de code est presque égal à mettre la même information directement à l'intérieur du <b>xsl:for-each</b>, normalement la division du code en modules permet une majeure lisibilité.\n",
    "</div>"
   ]
  },
  {
   "cell_type": "code",
   "execution_count": 106,
   "metadata": {
    "util.bundle": "correcteur"
   },
   "outputs": [
    {
     "name": "stdout",
     "output_type": "stream",
     "text": [
      "[warning] /usr/bin/fop: JVM flavor 'sun' not understood\n",
      "[INFO] FOUserAgent - Rendered page #1.\n",
      "[INFO] FOUserAgent - Rendered page #2.\n",
      "[INFO] FOUserAgent - Rendered page #3.\n",
      "[INFO] FOUserAgent - Rendered page #4.\n",
      "[INFO] FOUserAgent - Rendered page #5.\n",
      "[INFO] FOUserAgent - Rendered page #6.\n",
      "[INFO] FOUserAgent - Rendered page #7.\n",
      "[INFO] FOUserAgent - Rendered page #8.\n",
      "[INFO] FOUserAgent - Rendered page #9.\n",
      "[INFO] FOUserAgent - Rendered page #10.\n",
      "[INFO] FOUserAgent - Rendered page #11.\n",
      "[INFO] FOUserAgent - Rendered page #12.\n",
      "[INFO] FOUserAgent - Rendered page #13.\n",
      "[INFO] FOUserAgent - Rendered page #14.\n",
      "[INFO] FOUserAgent - Rendered page #15.\n",
      "[INFO] FOUserAgent - Rendered page #16.\n",
      "[INFO] FOUserAgent - Rendered page #17.\n",
      "[INFO] FOUserAgent - Rendered page #18.\n",
      "[INFO] FOUserAgent - Rendered page #19.\n",
      "[INFO] FOUserAgent - Rendered page #20.\n",
      "[INFO] FOUserAgent - Rendered page #21.\n",
      "[INFO] FOUserAgent - Rendered page #22.\n",
      "[INFO] FOUserAgent - Rendered page #23.\n",
      "[INFO] FOUserAgent - Rendered page #24.\n",
      "[INFO] FOUserAgent - Rendered page #25.\n",
      "[INFO] FOUserAgent - Rendered page #26.\n",
      "[INFO] FOUserAgent - Rendered page #27.\n",
      "[INFO] FOUserAgent - Rendered page #28.\n",
      "[INFO] FOUserAgent - Rendered page #29.\n",
      "[INFO] FOUserAgent - Rendered page #30.\n",
      "[INFO] FOUserAgent - Rendered page #31.\n",
      "[INFO] FOUserAgent - Rendered page #32.\n",
      "[INFO] FOUserAgent - Rendered page #33.\n",
      "[INFO] FOUserAgent - Rendered page #34.\n",
      "[INFO] FOUserAgent - Rendered page #35.\n",
      "[INFO] FOUserAgent - Rendered page #36.\n",
      "[INFO] FOUserAgent - Rendered page #37.\n",
      "[INFO] FOUserAgent - Rendered page #38.\n",
      "[INFO] FOUserAgent - Rendered page #39.\n",
      "[INFO] FOUserAgent - Rendered page #40.\n",
      "[INFO] FOUserAgent - Rendered page #41.\n",
      "[INFO] FOUserAgent - Rendered page #42.\n",
      "[INFO] FOUserAgent - Rendered page #43.\n",
      "[INFO] FOUserAgent - Rendered page #44.\n",
      "[INFO] FOUserAgent - Rendered page #45.\n",
      "[INFO] FOUserAgent - Rendered page #46.\n",
      "[INFO] FOUserAgent - Rendered page #47.\n",
      "[INFO] FOUserAgent - Rendered page #48.\n",
      "[INFO] FOUserAgent - Rendered page #49.\n",
      "[INFO] FOUserAgent - Rendered page #50.\n",
      "[INFO] FOUserAgent - Rendered page #51.\n",
      "[INFO] FOUserAgent - Rendered page #52.\n",
      "[INFO] FOUserAgent - Rendered page #53.\n",
      "[INFO] FOUserAgent - Rendered page #54.\n",
      "[INFO] FOUserAgent - Rendered page #55.\n",
      "[INFO] FOUserAgent - Rendered page #56.\n",
      "[INFO] FOUserAgent - Rendered page #57.\n",
      "[INFO] FOUserAgent - Rendered page #58.\n",
      "[INFO] FOUserAgent - Rendered page #59.\n",
      "[INFO] FOUserAgent - Rendered page #60.\n",
      "[INFO] FOUserAgent - Rendered page #61.\n",
      "[INFO] FOUserAgent - Rendered page #62.\n",
      "[INFO] FOUserAgent - Rendered page #63.\n",
      "[INFO] FOUserAgent - Rendered page #64.\n",
      "[INFO] FOUserAgent - Rendered page #65.\n",
      "[INFO] FOUserAgent - Rendered page #66.\n",
      "[INFO] FOUserAgent - Rendered page #67.\n",
      "[INFO] FOUserAgent - Rendered page #68.\n",
      "[INFO] FOUserAgent - Rendered page #69.\n",
      "[INFO] FOUserAgent - Rendered page #70.\n",
      "[INFO] FOUserAgent - Rendered page #71.\n",
      "[INFO] FOUserAgent - Rendered page #72.\n",
      "[INFO] FOUserAgent - Rendered page #73.\n",
      "[INFO] FOUserAgent - Rendered page #74.\n",
      "[INFO] FOUserAgent - Rendered page #75.\n",
      "[INFO] FOUserAgent - Rendered page #76.\n",
      "[INFO] FOUserAgent - Rendered page #77.\n",
      "[INFO] FOUserAgent - Rendered page #78.\n",
      "[INFO] FOUserAgent - Rendered page #79.\n",
      "[INFO] FOUserAgent - Rendered page #80.\n",
      "[INFO] FOUserAgent - Rendered page #81.\n",
      "[INFO] FOUserAgent - Rendered page #82.\n",
      "[INFO] FOUserAgent - Rendered page #83.\n",
      "[INFO] FOUserAgent - Rendered page #84.\n",
      "[INFO] FOUserAgent - Rendered page #85.\n",
      "[INFO] FOUserAgent - Rendered page #86.\n",
      "[INFO] FOUserAgent - Rendered page #87.\n",
      "[INFO] FOUserAgent - Rendered page #88.\n",
      "[INFO] FOUserAgent - Rendered page #89.\n",
      "[INFO] FOUserAgent - Rendered page #90.\n",
      "[INFO] FOUserAgent - Rendered page #91.\n",
      "[INFO] FOUserAgent - Rendered page #92.\n",
      "[INFO] FOUserAgent - Rendered page #93.\n",
      "[INFO] FOUserAgent - Rendered page #94.\n",
      "[INFO] FOUserAgent - Rendered page #95.\n",
      "[INFO] FOUserAgent - Rendered page #96.\n",
      "[INFO] FOUserAgent - Rendered page #97.\n",
      "[INFO] FOUserAgent - Rendered page #98.\n",
      "[INFO] FOUserAgent - Rendered page #99.\n",
      "[INFO] FOUserAgent - Rendered page #100.\n",
      "[INFO] FOUserAgent - Rendered page #101.\n"
     ]
    }
   ],
   "source": [
    "# définition des noms des fichiers\n",
    "xml_filename = 'regularite-mensuelle-tgv.xml'\n",
    "xsl_filename = 'question-6.xsl'\n",
    "\n",
    "#current date\n",
    "datetime_val = datetime.now()\n",
    "current_date = f\"{datetime_val.day}-{datetime_val.month}-{datetime_val.year}\"\n",
    "#string pour éviter la reste des valeurs jour - mois - an\n",
    "current_date = etree.XSLT.strparam(current_date)\n",
    "\n",
    "'''\n",
    "    Appel de la fonction xml2xslfo précédement développée.\n",
    "    On utilise l'option params de la fonction pour donner\n",
    "    la date de modification.\n",
    "'''\n",
    "xml2xslfo(xml_filename, xsl_filename, \"question-6.fo\", {\"date\" : current_date})\n",
    "\n",
    "# création du PDF en utilisant la console de commandes\n",
    "!fop -fo question-6.fo -pdf question-6.pdf"
   ]
  },
  {
   "cell_type": "markdown",
   "metadata": {},
   "source": [
    "__Q7. Commentaires :__\n",
    "<div style=\"background-color:#eef;padding:10px;border-radius:3px\">\n",
    "Faire figurer les commentaires non vides là aussi dans l'ordre du calendrier.\n",
    "</div>\n",
    "\n",
    "Les documents demandés seront nommés\n",
    "<a href=\"question-7.xsl\"><tt>question-7.xsl</tt></a>,\n",
    "<a href=\"question-7.fo\"><tt>question-7.fo</tt></a> et\n",
    "<a href=\"question-7.pdf\"><tt>question-7.pdf</tt></a>."
   ]
  },
  {
   "cell_type": "code",
   "execution_count": 115,
   "metadata": {
    "util.bundle": "correcteur"
   },
   "outputs": [
    {
     "name": "stdout",
     "output_type": "stream",
     "text": [
      "[warning] /usr/bin/fop: JVM flavor 'sun' not understood\n",
      "[INFO] FOUserAgent - Rendered page #1.\n",
      "[INFO] FOUserAgent - Rendered page #2.\n",
      "[INFO] FOUserAgent - Rendered page #3.\n",
      "[INFO] FOUserAgent - Rendered page #4.\n",
      "[INFO] FOUserAgent - Rendered page #5.\n",
      "[INFO] FOUserAgent - Rendered page #6.\n",
      "[INFO] FOUserAgent - Rendered page #7.\n",
      "[INFO] FOUserAgent - Rendered page #8.\n",
      "[INFO] FOUserAgent - Rendered page #9.\n",
      "[INFO] FOUserAgent - Rendered page #10.\n",
      "[INFO] FOUserAgent - Rendered page #11.\n",
      "[INFO] FOUserAgent - Rendered page #12.\n",
      "[INFO] FOUserAgent - Rendered page #13.\n",
      "[INFO] FOUserAgent - Rendered page #14.\n",
      "[INFO] FOUserAgent - Rendered page #15.\n",
      "[INFO] FOUserAgent - Rendered page #16.\n",
      "[INFO] FOUserAgent - Rendered page #17.\n",
      "[INFO] FOUserAgent - Rendered page #18.\n",
      "[INFO] FOUserAgent - Rendered page #19.\n",
      "[INFO] FOUserAgent - Rendered page #20.\n",
      "[INFO] FOUserAgent - Rendered page #21.\n",
      "[INFO] FOUserAgent - Rendered page #22.\n",
      "[INFO] FOUserAgent - Rendered page #23.\n",
      "[INFO] FOUserAgent - Rendered page #24.\n",
      "[INFO] FOUserAgent - Rendered page #25.\n",
      "[INFO] FOUserAgent - Rendered page #26.\n",
      "[INFO] FOUserAgent - Rendered page #27.\n",
      "[INFO] FOUserAgent - Rendered page #28.\n",
      "[INFO] FOUserAgent - Rendered page #29.\n",
      "[INFO] FOUserAgent - Rendered page #30.\n",
      "[INFO] FOUserAgent - Rendered page #31.\n",
      "[INFO] FOUserAgent - Rendered page #32.\n",
      "[INFO] FOUserAgent - Rendered page #33.\n",
      "[INFO] FOUserAgent - Rendered page #34.\n",
      "[INFO] FOUserAgent - Rendered page #35.\n",
      "[INFO] FOUserAgent - Rendered page #36.\n",
      "[INFO] FOUserAgent - Rendered page #37.\n",
      "[INFO] FOUserAgent - Rendered page #38.\n",
      "[INFO] FOUserAgent - Rendered page #39.\n",
      "[INFO] FOUserAgent - Rendered page #40.\n",
      "[INFO] FOUserAgent - Rendered page #41.\n",
      "[INFO] FOUserAgent - Rendered page #42.\n",
      "[INFO] FOUserAgent - Rendered page #43.\n",
      "[INFO] FOUserAgent - Rendered page #44.\n",
      "[INFO] FOUserAgent - Rendered page #45.\n",
      "[INFO] FOUserAgent - Rendered page #46.\n",
      "[INFO] FOUserAgent - Rendered page #47.\n",
      "[INFO] FOUserAgent - Rendered page #48.\n",
      "[INFO] FOUserAgent - Rendered page #49.\n",
      "[INFO] FOUserAgent - Rendered page #50.\n",
      "[INFO] FOUserAgent - Rendered page #51.\n",
      "[INFO] FOUserAgent - Rendered page #52.\n",
      "[INFO] FOUserAgent - Rendered page #53.\n",
      "[INFO] FOUserAgent - Rendered page #54.\n",
      "[INFO] FOUserAgent - Rendered page #55.\n",
      "[INFO] FOUserAgent - Rendered page #56.\n",
      "[INFO] FOUserAgent - Rendered page #57.\n",
      "[INFO] FOUserAgent - Rendered page #58.\n",
      "[INFO] FOUserAgent - Rendered page #59.\n",
      "[INFO] FOUserAgent - Rendered page #60.\n",
      "[INFO] FOUserAgent - Rendered page #61.\n",
      "[INFO] FOUserAgent - Rendered page #62.\n",
      "[INFO] FOUserAgent - Rendered page #63.\n",
      "[INFO] FOUserAgent - Rendered page #64.\n",
      "[INFO] FOUserAgent - Rendered page #65.\n",
      "[INFO] FOUserAgent - Rendered page #66.\n",
      "[INFO] FOUserAgent - Rendered page #67.\n",
      "[INFO] FOUserAgent - Rendered page #68.\n",
      "[INFO] FOUserAgent - Rendered page #69.\n",
      "[INFO] FOUserAgent - Rendered page #70.\n",
      "[INFO] FOUserAgent - Rendered page #71.\n",
      "[INFO] FOUserAgent - Rendered page #72.\n",
      "[INFO] FOUserAgent - Rendered page #73.\n",
      "[INFO] FOUserAgent - Rendered page #74.\n",
      "[INFO] FOUserAgent - Rendered page #75.\n",
      "[INFO] FOUserAgent - Rendered page #76.\n",
      "[INFO] FOUserAgent - Rendered page #77.\n",
      "[INFO] FOUserAgent - Rendered page #78.\n",
      "[INFO] FOUserAgent - Rendered page #79.\n",
      "[INFO] FOUserAgent - Rendered page #80.\n",
      "[INFO] FOUserAgent - Rendered page #81.\n",
      "[INFO] FOUserAgent - Rendered page #82.\n",
      "[INFO] FOUserAgent - Rendered page #83.\n",
      "[INFO] FOUserAgent - Rendered page #84.\n",
      "[INFO] FOUserAgent - Rendered page #85.\n",
      "[INFO] FOUserAgent - Rendered page #86.\n",
      "[INFO] FOUserAgent - Rendered page #87.\n",
      "[INFO] FOUserAgent - Rendered page #88.\n",
      "[INFO] FOUserAgent - Rendered page #89.\n",
      "[INFO] FOUserAgent - Rendered page #90.\n",
      "[INFO] FOUserAgent - Rendered page #91.\n",
      "[INFO] FOUserAgent - Rendered page #92.\n",
      "[INFO] FOUserAgent - Rendered page #93.\n",
      "[INFO] FOUserAgent - Rendered page #94.\n",
      "[INFO] FOUserAgent - Rendered page #95.\n",
      "[INFO] FOUserAgent - Rendered page #96.\n",
      "[INFO] FOUserAgent - Rendered page #97.\n",
      "[INFO] FOUserAgent - Rendered page #98.\n",
      "[INFO] FOUserAgent - Rendered page #99.\n",
      "[INFO] FOUserAgent - Rendered page #100.\n",
      "[INFO] FOUserAgent - Rendered page #101.\n",
      "[INFO] FOUserAgent - Rendered page #102.\n",
      "[INFO] FOUserAgent - Rendered page #103.\n",
      "[INFO] FOUserAgent - Rendered page #104.\n",
      "[INFO] FOUserAgent - Rendered page #105.\n",
      "[INFO] FOUserAgent - Rendered page #106.\n",
      "[INFO] FOUserAgent - Rendered page #107.\n",
      "[INFO] FOUserAgent - Rendered page #108.\n",
      "[INFO] FOUserAgent - Rendered page #109.\n",
      "[INFO] FOUserAgent - Rendered page #110.\n",
      "[INFO] FOUserAgent - Rendered page #111.\n",
      "[INFO] FOUserAgent - Rendered page #112.\n",
      "[INFO] FOUserAgent - Rendered page #113.\n",
      "[INFO] FOUserAgent - Rendered page #114.\n",
      "[INFO] FOUserAgent - Rendered page #115.\n",
      "[INFO] FOUserAgent - Rendered page #116.\n",
      "[INFO] FOUserAgent - Rendered page #117.\n",
      "[INFO] FOUserAgent - Rendered page #118.\n",
      "[INFO] FOUserAgent - Rendered page #119.\n",
      "[INFO] FOUserAgent - Rendered page #120.\n",
      "[INFO] FOUserAgent - Rendered page #121.\n",
      "[INFO] FOUserAgent - Rendered page #122.\n",
      "[INFO] FOUserAgent - Rendered page #123.\n",
      "[INFO] FOUserAgent - Rendered page #124.\n",
      "[INFO] FOUserAgent - Rendered page #125.\n",
      "[INFO] FOUserAgent - Rendered page #126.\n"
     ]
    }
   ],
   "source": [
    "# définition des noms des fichiers\n",
    "xml_filename = 'regularite-mensuelle-tgv.xml'\n",
    "xsl_filename = 'question-7.xsl'\n",
    "\n",
    "#current date\n",
    "datetime_val = datetime.now()\n",
    "current_date = f\"{datetime_val.day}-{datetime_val.month}-{datetime_val.year}\"\n",
    "#string pour éviter la reste des valeurs jour - mois - an\n",
    "current_date = etree.XSLT.strparam(current_date)\n",
    "\n",
    "'''\n",
    "    Appel de la fonction xml2xslfo précédement développée.\n",
    "    On utilise l'option params de la fonction pour donner\n",
    "    la date de modification.\n",
    "'''\n",
    "xml2xslfo(xml_filename, xsl_filename, \"question-7.fo\", {\"date\" : current_date})\n",
    "\n",
    "# création du PDF en utilisant la console de commandes\n",
    "!fop -fo question-7.fo -pdf question-7.pdf"
   ]
  },
  {
   "cell_type": "markdown",
   "metadata": {},
   "source": [
    "__Q8. Améliorer <i>ad libitum</i> :__\n",
    "<div style=\"background-color:#eef;padding:10px;border-radius:3px\">\n",
    "Numéroter les pages, ajouter un graphique SVG par couple gare de départ / gare d'arrivée,\n",
    "créer un sommaire cliquable renvoyant directement à la page concernée...\n",
    "</div>\n",
    "\n",
    "Les documents demandés seront nommés\n",
    "<a href=\"question-8.xsl\"><tt>question-8.xsl</tt></a>,\n",
    "<a href=\"question-8.fo\"><tt>question-8.fo</tt></a> et\n",
    "<a href=\"question-8.pdf\"><tt>question-8.pdf</tt></a>."
   ]
  },
  {
   "cell_type": "code",
   "execution_count": 8,
   "metadata": {
    "scrolled": true,
    "util.bundle": "correcteur"
   },
   "outputs": [],
   "source": [
    "# votre code ici"
   ]
  },
  {
   "cell_type": "code",
   "execution_count": 9,
   "metadata": {
    "collapsed": true
   },
   "outputs": [],
   "source": []
  }
 ],
 "metadata": {
  "kernelspec": {
   "display_name": "Python 3",
   "language": "python",
   "name": "python3"
  },
  "language_info": {
   "codemirror_mode": {
    "name": "ipython",
    "version": 3
   },
   "file_extension": ".py",
   "mimetype": "text/x-python",
   "name": "python",
   "nbconvert_exporter": "python",
   "pygments_lexer": "ipython3",
   "version": "3.6.9"
  }
 },
 "nbformat": 4,
 "nbformat_minor": 2
}
