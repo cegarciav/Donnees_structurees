{
 "cells": [
  {
   "cell_type": "markdown",
   "metadata": {},
   "source": [
    "# <center>MOD 8.4 - Représentation et manipulation de données structurées - BE 1</center>\n",
    "\n",
    "## <center style=\"color: #66d\">Développement d'une application XML munie d'une DTD - Visualisation, Validation.</center>\n",
    "\n",
    "### 1. Déroulement de la séance\n",
    "\n",
    "Ce travail s'effectue par binômes. Merci de vous organiser et de prendre les coordonnées de votre binôme pour pouvoir finir si nécessaire le travail après la séance.\n",
    "\n",
    "Les livrables qui vous seront demandés pour ce BE devront faire l'objet d'un UNIQUE fichier zippé (.zip, .gz, .tgz, .tar, .7z - les formats exotiques non listés ici ne seront pas pris en compte) et déposés sur le serveur moodle dans la zone \"Bureaux d'Etudes\".\n",
    "\n",
    "Le compte-rendu est à déposer par l'un OU l'autre membre du binôme sur le serveur http://moodle.ec-lyon.fr/ dans la rubrique <i>Bureaux d'Etudes</i> du cours <i>S9, MOD 8.4 - Représentation et manipulation de données structurées</i>.\n",
    "\n",
    "Au moment du dépôt, merci de bien vouloir rédiger le champ Titre sous la forme :\n",
    "\n",
    "          CR <nom eleve 1> - <nom eleve 2>        "
   ]
  },
  {
   "cell_type": "markdown",
   "metadata": {},
   "source": [
    "### 2. Conception d'une application XML\n",
    "\n",
    "Avec le sujet, vous avez trouvé un fichier de données nommé <tt>ponctualite-mensuelle-transilien.csv</tt> contenant des informations sur la ponctualité des trains de banlieue parisiens entre janvier 2013 et août 2015.\n",
    "\n",
    "__Q2. Observer les données :__\n",
    "<div style=\"background-color:#eef;padding:10px;border-radius:3px\">\n",
    "Ouvrir le fichier avec votre tableur préféré, ou à défaut avec un éditeur de texte pour observer la nature et la structure des informations qu'il contient.\n",
    "</div>\n",
    "\n",
    "Il vous est maintenant demandé de concevoir une _application XML_ permettant de stocker ces mêmes données, en évitant au maximum la redondance d'information.\n",
    "\n",
    "__Q3. Concevoir une application XML :__\n",
    "<div style=\"background-color:#eef;padding:10px;border-radius:3px\">\n",
    "Décrire le vocabulaire _(nom des éléments et des attributs)_ et la structure _(position des éléments et des attributs)_ d'une application XML répondant au cahier des charges.\n",
    "</div>\n",
    "\n",
    "<div>\n",
    "    <h4>Structure choisie</h4>\n",
    "    La structure que nous avons choisi est la suivante :\n",
    "    <ul>\n",
    "        <li>Services</li>\n",
    "        <ul>\n",
    "            <li>Service</li>\n",
    "            <ul>\n",
    "                <li>Nom</li>\n",
    "                <li>Lignes</li>\n",
    "                <ul>\n",
    "                    <li>Ligne</li>\n",
    "                    <ul>\n",
    "                        <li>ID</li>\n",
    "                        <li>Nom</li>\n",
    "                        <li>Train</li>\n",
    "                    </ul>\n",
    "                </ul>\n",
    "            </ul>\n",
    "        </ul>\n",
    "    </ul>\n",
    "    Services est la racine, qui a plusiers $\\lt$Service$\\gt$. Pour sa part, chaque $\\lt$Service$\\gt$ a un $\\lt$Nom$\\gt$ et des $\\lt$Lignes$\\gt$. Chaque $\\lt$Lignes$\\gt$ a plusieres $\\lt$Ligne$\\gt$, et chaque $\\lt$Ligne$\\gt$ a un $\\lt$ID$\\gt$, un $\\lt$Nom$\\gt$ et un $\\lt$Train$\\gt$.\n",
    "</div>"
   ]
  },
  {
   "cell_type": "markdown",
   "metadata": {},
   "source": [
    "__Q4. Anticiper les problèmes :__\n",
    "<div style=\"background-color:#eef;padding:10px;border-radius:3px\">\n",
    "Sachant qu'il vous sera demandé de créer un document XML conforme à la syntaxe que vous avez imaginée, à partir des données du fichier fourni, et que l'on vous demandera d'afficher ce document mis en page dans un navigateur à l'aide d'une feuille de style CSS, modifier éventuellement la syntaxe que vous proposez.\n",
    "</div>"
   ]
  },
  {
   "cell_type": "markdown",
   "metadata": {},
   "source": [
    "### 3. Création d'un document XML\n",
    "\n",
    "On désire maintenant créer un document XML que l'on nommera <tt>ponctualite-mensuelle-transilien.xml</tt> conforme à la syntaxe qui vient d'être conçue, et contenant les données du fichier CSV éponyme. Pour information, le fichier CSV est codé en ISO-8859-1.\n",
    "\n",
    "__Q5. Importer les données :__\n",
    "<div style=\"background-color:#eef;padding:10px;border-radius:3px\">\n",
    "En vous reportant au mode d'emploi du module python nommé <a href=\"https://docs.python.org/3/library/csv.html\">csv</a> pour la lecture du fichier, et <a href=\"http://lxml.de/tutorial.html\">lxml.etree</a> pour le traitement XML, écrire un programme python permettant de créer un document XML conforme à l'application conçue précédemment et contenant les données du fichier CSV fourni. Créer ce document.\n",
    "</div>"
   ]
  },
  {
   "cell_type": "code",
   "execution_count": 2,
   "metadata": {
    "util.bundle": "correcteur"
   },
   "outputs": [],
   "source": [
    "# votre code ici\n",
    "import csv\n",
    "from lxml import etree\n",
    "\n",
    "with open(\"ponctualite-mensuelle-transilien.csv\", encoding=\"ISO-8859-1\") as file:\n",
    "    reader = csv.reader(file, delimiter=';')\n",
    "    headers = next(reader)\n",
    "    content = [{headers[nb] : x[nb] for nb in range(len(headers))} for x in reader]\n",
    "\n",
    "xml_header = '<?xml version=\"1.0\" encoding=\"ISO-8859-1\"?>'\n",
    "xml_style = ''\n",
    "# xml_style = '<?xml-stylesheet href=\"ponctualite-mensuelle-transilien.css\" type=\"text/css\"?>' Pour ajouter \n",
    "# la feuille de style\n",
    "\n",
    "root = etree.Element(\"Services\")\n",
    "for line in content:\n",
    "    service = [x for x in root if line[\"Service\"] in [y.text for y in x]]\n",
    "    if len(service) == 0:\n",
    "        service = etree.SubElement(root, \"Service\")\n",
    "        service_nom = etree.SubElement(service, \"Nom\")\n",
    "        service_nom.text = line[\"Service\"]\n",
    "        service_lignes = etree.SubElement(service, \"Lignes\")\n",
    "    else:\n",
    "        service = service[0]\n",
    "        service_lignes = [x for x in service if x.tag == \"Lignes\"][0]\n",
    "\n",
    "    ligne = [x for x in service_lignes if line[\"Ligne\"] in [y.text for y in x]]\n",
    "    if len(ligne) == 0:\n",
    "        ligne = etree.SubElement(service_lignes, \"Ligne\")\n",
    "        ligne_id = etree.SubElement(ligne, \"ID\")\n",
    "        ligne_id.text = line[\"Ligne\"]\n",
    "        ligne_nom = etree.SubElement(ligne, \"Nom\")\n",
    "        ligne_nom.text = line[\"Nom de la ligne\"]\n",
    "        ligne_train = etree.SubElement(ligne, \"Train\")\n",
    "        train_id = etree.SubElement(ligne_train, \"ID\")\n",
    "        train_id.text = line[\"ID\"]\n",
    "        train_punctualities = etree.SubElement(ligne_train, \"Ponctualites\")\n",
    "        punctuality_headers = etree.SubElement(train_punctualities, \"Entete\")\n",
    "        header_date = etree.SubElement(punctuality_headers, \"Date\")\n",
    "        header_date.text = \"Date\"\n",
    "        header_taux = etree.SubElement(punctuality_headers, \"Taux\")\n",
    "        header_taux.text = \"Taux de ponctualité\"\n",
    "        header_atTime = etree.SubElement(punctuality_headers, \"PonctuelParRetard\")\n",
    "        header_atTime.text = \"Nombre de voyageurs à l'heure pour un voyageur en retard\"\n",
    "        train_punctuality = etree.SubElement(train_punctualities, \"Ponctualite\")\n",
    "        punctuality_date = etree.SubElement(train_punctuality, \"Date\")\n",
    "        punctuality_date.text = line[\"Date\"]\n",
    "        punctuality_taux = etree.SubElement(train_punctuality, \"Taux\")\n",
    "        punctuality_taux.text = line[\"Taux de ponctualité\"]\n",
    "        punctuality_atTime = etree.SubElement(train_punctuality, \"PonctuelParRetard\")\n",
    "        punctuality_atTime.text = line[\"Nombre de voyageurs à l'heure pour un voyageur en retard\"]\n",
    "    else:\n",
    "        ligne = ligne[0]\n",
    "        ligne_train = [x for x in ligne if line[\"ID\"] in [y.text for y in x]][0]\n",
    "        train_punctualities = [x for x in ligne_train if x.tag == \"Ponctualites\"][0]\n",
    "        train_punctuality = etree.SubElement(train_punctualities, \"Ponctualite\")\n",
    "        punctuality_date = etree.SubElement(train_punctuality, \"Date\")\n",
    "        punctuality_date.text = line[\"Date\"]\n",
    "        punctuality_taux = etree.SubElement(train_punctuality, \"Taux\")\n",
    "        punctuality_taux.text = line[\"Taux de ponctualité\"]\n",
    "        punctuality_atTime = etree.SubElement(train_punctuality, \"PonctuelParRetard\")\n",
    "        punctuality_atTime.text = line[\"Nombre de voyageurs à l'heure pour un voyageur en retard\"]\n",
    "\n",
    "\n",
    "xml_file = etree.tostring(root, encoding=\"ISO-8859-1\",\n",
    "                            xml_declaration=True, doctype=xml_style)\n",
    "\n",
    "with open('ponctualite-mensuelle-transilien.xml', 'wb') as file:\n",
    "    file.write(xml_file)"
   ]
  },
  {
   "cell_type": "code",
   "execution_count": 3,
   "metadata": {},
   "outputs": [],
   "source": [
    "%pycat ponctualite-mensuelle-transilien.xml"
   ]
  },
  {
   "cell_type": "markdown",
   "metadata": {},
   "source": [
    "### 4. Affichage d'un document XML\n",
    "\n",
    "On désire maintenant afficher le document XML qui vient d'être créé, mis en forme dans un navigateur à l'aide d'une feuille de style CSS.\n",
    "\n",
    "__Q6. Afficher le document XML :__\n",
    "<div style=\"background-color:#eef;padding:10px;border-radius:3px\">\n",
    "Afin de ne pas l'écraser par inadvertance en réexécutant le programme python, créer une copie du document XML précédent comportant une référence à une feuille de style CSS permettant de l'afficher de manière pertinente dans un navigateur.\n",
    "</div>\n",
    "\n",
    "<a href=\"ponctualite-mensuelle-transilien-2.xml\">Voir le document</a>"
   ]
  },
  {
   "cell_type": "code",
   "execution_count": 4,
   "metadata": {},
   "outputs": [],
   "source": [
    "%pycat ponctualite-mensuelle-transilien.css"
   ]
  },
  {
   "cell_type": "markdown",
   "metadata": {},
   "source": [
    "### 5. Validation d'un document XML\n",
    "\n",
    "__Q7. &Eacute;crire une DTD décrivant la syntaxe du document XML :__\n",
    "<div style=\"background-color:#eef;padding:10px;border-radius:3px\">\n",
    "Inclure au document précédent une DTD décrivant sa syntaxe, sous forme de DTD interne. Le nouveau document pourra être nommé <tt>ponctualite-mensuelle-transilien-3.xml</tt>.\n",
    "</div>"
   ]
  },
  {
   "cell_type": "markdown",
   "metadata": {},
   "source": [
    "__Q8. Valider le document XML en ligne :__\n",
    "<div style=\"background-color:#eef;padding:10px;border-radius:3px\">\n",
    "Vérifier la validité du document, c'est-à-dire sa conformité avec la DTD, en le soumettant à un <a href=\"https://www.google.com/search?q=validate+xml\">validateur en ligne</a>.\n",
    "</div>\n",
    "<div>\n",
    "    Nous avons réalisé la validation avec <a href=\"https://www.xmlvalidation.com/index.php?id=1&L=0\">cette</a> validateur en ligne, et nous avons obtenue le résultat suivant : \n",
    "    <img src=\"Validation.png\">\n",
    "    Nous concluons alors que le document XML est valide et bien formé.\n",
    "</div>"
   ]
  },
  {
   "cell_type": "markdown",
   "metadata": {},
   "source": [
    "__Q9. Développer un validateur :__\n",
    "<div style=\"background-color:#eef;padding:10px;border-radius:3px\">\n",
    "Valider le document à l'aide d'un programme python que vous développerez à l'aide du module <a href=\"http://lxml.de/validation.html\">lxml</a>.\n",
    "</div>"
   ]
  },
  {
   "cell_type": "code",
   "execution_count": 7,
   "metadata": {
    "util.bundle": "correcteur"
   },
   "outputs": [
    {
     "name": "stdout",
     "output_type": "stream",
     "text": [
      "File well formed and validated from internal dtd\n"
     ]
    }
   ],
   "source": [
    "# votre code ici\n",
    "from lxml import etree\n",
    "from io import StringIO\n",
    "\n",
    "#Constants\n",
    "file_name = \"ponctualite-mensuelle-transilien-3.xml\"\n",
    "dtd_included = True\n",
    "dtd_file = \"external_dtd.dtd\"\n",
    "encoding_dtd = \"UTF-8\"\n",
    "\n",
    "#File opened and stored in memory\n",
    "with open(file_name, 'rb') as file:\n",
    "    data = file.read()\n",
    "\n",
    "#Validate file\n",
    "if dtd_included:\n",
    "    parser = etree.XMLParser(dtd_validation=True)\n",
    "    try:\n",
    "        root = etree.fromstring(data, parser)\n",
    "        print(\"File well formed and validated from internal dtd\")\n",
    "    except etree.XMLSyntaxError as err:\n",
    "        print(\"We've found the following error on this file:\")\n",
    "        print(err)\n",
    "else:\n",
    "    with open(dtd_file, 'r', encoding=encoding_dtd) as file:\n",
    "        dtd_data = file.read()\n",
    "    try:\n",
    "        root = etree.fromstring(data)\n",
    "\n",
    "        #Getting content of doctype\n",
    "        start_limit = dtd_data.find(\"[\") + 1\n",
    "        end_limit = dtd_data.find(\"]\")\n",
    "        dtd_data = dtd_data[start_limit : end_limit]\n",
    "        dtd_data = StringIO(dtd_data)\n",
    "        dtd = etree.DTD(dtd_data)\n",
    "\n",
    "        if dtd.validate(root):\n",
    "            print(\"File well formed and validated from external dtd\")\n",
    "        else:\n",
    "            print(\"We've found the following error on this file:\")\n",
    "            print(dtd.error_log.filter_from_errors()[0])\n",
    "    except etree.DTDParseError as err:\n",
    "        print(\"DTD file not valid\")\n",
    "    except etree.XMLSyntaxError as err:\n",
    "        print(\"We've found the following error on this file:\")\n",
    "        print(err)"
   ]
  },
  {
   "cell_type": "markdown",
   "metadata": {},
   "source": [
    "__Q10. Challenge pour les plus acharnés :__\n",
    "<div style=\"background-color:#eef;padding:10px;border-radius:3px\">\n",
    "Ecrire un schéma XML, puis l'utiliser pour valider le document <tt>ponctualite-mensuelle-transilien-3.xml</tt> qui y fera référence. Pour cela le plus simple sera encore une fois d'utiliser les possibilités de <a href=\"https://lxml.de/validation.html#xmlschema\">validation via le module lxml</a> depuis un programme python.\n",
    "</div>"
   ]
  },
  {
   "cell_type": "code",
   "execution_count": 5,
   "metadata": {},
   "outputs": [],
   "source": [
    "%pycat ponctualite-mensuelle-transilien.xsd"
   ]
  },
  {
   "cell_type": "code",
   "execution_count": 6,
   "metadata": {
    "util.bundle": "correcteur"
   },
   "outputs": [],
   "source": [
    "# votre code ici"
   ]
  },
  {
   "cell_type": "markdown",
   "metadata": {},
   "source": [
    "__Q11. De plus en plus fort :__\n",
    "<div style=\"background-color:#eef;padding:10px;border-radius:3px\">\n",
    " Agir sur les facettes des types simples pour, tout en restant pertinent, restreindre au maximum la syntaxe autorisée pour les informations présentes dans le document. Le schéma et le document y faisant référence pourront être nommés <tt>ponctualite-mensuelle-transilien-2.xsd</tt> et <tt>ponctualite-mensuelle-transilien-4.xml</tt>.\n",
    "</div>"
   ]
  },
  {
   "cell_type": "code",
   "execution_count": 7,
   "metadata": {
    "collapsed": true
   },
   "outputs": [],
   "source": [
    "%pycat ponctualite-mensuelle-transilien-2.xsd"
   ]
  },
  {
   "cell_type": "code",
   "execution_count": 8,
   "metadata": {
    "util.bundle": "correcteur"
   },
   "outputs": [],
   "source": [
    "# votre code ici"
   ]
  },
  {
   "cell_type": "code",
   "execution_count": 9,
   "metadata": {
    "collapsed": true
   },
   "outputs": [],
   "source": []
  }
 ],
 "metadata": {
  "kernelspec": {
   "display_name": "Python 3",
   "language": "python",
   "name": "python3"
  },
  "language_info": {
   "codemirror_mode": {
    "name": "ipython",
    "version": 3
   },
   "file_extension": ".py",
   "mimetype": "text/x-python",
   "name": "python",
   "nbconvert_exporter": "python",
   "pygments_lexer": "ipython3",
   "version": "3.7.4"
  }
 },
 "nbformat": 4,
 "nbformat_minor": 2
}
