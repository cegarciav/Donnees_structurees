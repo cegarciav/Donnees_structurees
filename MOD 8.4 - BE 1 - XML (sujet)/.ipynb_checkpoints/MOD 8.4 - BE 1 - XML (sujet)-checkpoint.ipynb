{
 "cells": [
  {
   "cell_type": "markdown",
   "metadata": {},
   "source": [
    "# <center>MOD 8.4 - Représentation et manipulation de données structurées - BE 1</center>\n",
    "\n",
    "## <center style=\"color: #66d\">Développement d'une application XML munie d'une DTD - Visualisation, Validation.</center>\n",
    "\n",
    "### 1. Déroulement de la séance\n",
    "\n",
    "Ce travail s'effectue par binômes. Merci de vous organiser et de prendre les coordonnées de votre binôme pour pouvoir finir si nécessaire le travail après la séance.\n",
    "\n",
    "Les livrables qui vous seront demandés pour ce BE devront faire l'objet d'un UNIQUE fichier zippé (.zip, .gz, .tgz, .tar, .7z - les formats exotiques non listés ici ne seront pas pris en compte) et déposés sur le serveur moodle dans la zone \"Bureaux d'Etudes\".\n",
    "\n",
    "Le compte-rendu est à déposer par l'un OU l'autre membre du binôme sur le serveur http://moodle.ec-lyon.fr/ dans la rubrique <i>Bureaux d'Etudes</i> du cours <i>S9, MOD 8.4 - Représentation et manipulation de données structurées</i>.\n",
    "\n",
    "Au moment du dépôt, merci de bien vouloir rédiger le champ Titre sous la forme :\n",
    "\n",
    "          CR <nom eleve 1> - <nom eleve 2>        "
   ]
  },
  {
   "cell_type": "markdown",
   "metadata": {},
   "source": [
    "### 2. Conception d'une application XML\n",
    "\n",
    "Avec le sujet, vous avez trouvé un fichier de données nommé <tt>ponctualite-mensuelle-transilien.csv</tt> contenant des informations sur la ponctualité des trains de banlieue parisiens entre janvier 2013 et août 2015.\n",
    "\n",
    "__Q2. Observer les données :__\n",
    "<div style=\"background-color:#eef;padding:10px;border-radius:3px\">\n",
    "Ouvrir le fichier avec votre tableur préféré, ou à défaut avec un éditeur de texte pour observer la nature et la structure des informations qu'il contient.\n",
    "</div>\n",
    "\n",
    "Il vous est maintenant demandé de concevoir une _application XML_ permettant de stocker ces mêmes données, en évitant au maximum la redondance d'information.\n",
    "\n",
    "__Q3. Concevoir une application XML :__\n",
    "<div style=\"background-color:#eef;padding:10px;border-radius:3px\">\n",
    "Décrire le vocabulaire _(nom des éléments et des attributs)_ et la structure _(position des éléments et des attributs)_ d'une application XML répondant au cahier des charges.\n",
    "</div>"
   ]
  },
  {
   "cell_type": "markdown",
   "metadata": {},
   "source": [
    "__Q4. Anticiper les problèmes :__\n",
    "<div style=\"background-color:#eef;padding:10px;border-radius:3px\">\n",
    "Sachant qu'il vous sera demandé de créer un document XML conforme à la syntaxe que vous avez imaginée, à partir des données du fichier fourni, et que l'on vous demandera d'afficher ce document mis en page dans un navigateur à l'aide d'une feuille de style CSS, modifier éventuellement la syntaxe que vous proposez.\n",
    "</div>"
   ]
  },
  {
   "cell_type": "markdown",
   "metadata": {},
   "source": [
    "### 3. Création d'un document XML\n",
    "\n",
    "On désire maintenant créer un document XML que l'on nommera <tt>ponctualite-mensuelle-transilien.xml</tt> conforme à la syntaxe qui vient d'être conçue, et contenant les données du fichier CSV éponyme. Pour information, le fichier CSV est codé en ISO-8859-1.\n",
    "\n",
    "__Q5. Importer les données :__\n",
    "<div style=\"background-color:#eef;padding:10px;border-radius:3px\">\n",
    "En vous reportant au mode d'emploi du module python nommé <a href=\"https://docs.python.org/3/library/csv.html\">csv</a> pour la lecture du fichier, et <a href=\"http://lxml.de/tutorial.html\">lxml.etree</a> pour le traitement XML, écrire un programme python permettant de créer un document XML conforme à l'application conçue précédemment et contenant les données du fichier CSV fourni. Créer ce document.\n",
    "</div>"
   ]
  },
  {
   "cell_type": "code",
   "execution_count": 1,
   "metadata": {
    "util.bundle": "correcteur"
   },
   "outputs": [],
   "source": [
    "# votre code ici"
   ]
  },
  {
   "cell_type": "code",
   "execution_count": 2,
   "metadata": {
    "collapsed": true
   },
   "outputs": [],
   "source": [
    "%pycat ponctualite-mensuelle-transilien.xml"
   ]
  },
  {
   "cell_type": "markdown",
   "metadata": {},
   "source": [
    "### 4. Affichage d'un document XML\n",
    "\n",
    "On désire maintenant afficher le document XML qui vient d'être créé, mis en forme dans un navigateur à l'aide d'une feuille de style CSS.\n",
    "\n",
    "__Q6. Afficher le document XML :__\n",
    "<div style=\"background-color:#eef;padding:10px;border-radius:3px\">\n",
    "Afin de ne pas l'écraser par inadvertance en réexécutant le programme python, créer une copie du document XML précédent comportant une référence à une feuille de style CSS permettant de l'afficher de manière pertinente dans un navigateur.\n",
    "</div>\n",
    "\n",
    "<a href=\"ponctualite-mensuelle-transilien-2.xml\">Voir le document</a>"
   ]
  },
  {
   "cell_type": "code",
   "execution_count": 3,
   "metadata": {
    "collapsed": true
   },
   "outputs": [],
   "source": [
    "%pycat ponctualite-mensuelle-transilien.css"
   ]
  },
  {
   "cell_type": "markdown",
   "metadata": {},
   "source": [
    "### 5. Validation d'un document XML\n",
    "\n",
    "__Q7. &Eacute;crire une DTD décrivant la syntaxe du document XML :__\n",
    "<div style=\"background-color:#eef;padding:10px;border-radius:3px\">\n",
    "Inclure au document précédent une DTD décrivant sa syntaxe, sous forme de DTD interne. Le nouveau document pourra être nommé <tt>ponctualite-mensuelle-transilien-2.xml</tt>.\n",
    "</div>"
   ]
  },
  {
   "cell_type": "markdown",
   "metadata": {},
   "source": [
    "__Q8. Valider le document XML en ligne :__\n",
    "<div style=\"background-color:#eef;padding:10px;border-radius:3px\">\n",
    "Vérifier la validité du document, c'est-à-dire sa conformité avec la DTD, en le soumettant à un <a href=\"https://www.google.com/search?q=validate+xml\">validateur en ligne</a>.\n",
    "</div>"
   ]
  },
  {
   "cell_type": "markdown",
   "metadata": {},
   "source": [
    "__Q9. Développer un validateur :__\n",
    "<div style=\"background-color:#eef;padding:10px;border-radius:3px\">\n",
    "Valider le document à l'aide d'un programme python que vous développerez à l'aide du module <a href=\"http://lxml.de/validation.html\">lxml</a>.\n",
    "</div>"
   ]
  },
  {
   "cell_type": "code",
   "execution_count": 4,
   "metadata": {
    "util.bundle": "correcteur"
   },
   "outputs": [],
   "source": [
    "# votre code ici"
   ]
  },
  {
   "cell_type": "markdown",
   "metadata": {},
   "source": [
    "__Q10. Challenge pour les plus acharnés :__\n",
    "<div style=\"background-color:#eef;padding:10px;border-radius:3px\">\n",
    "Ecrire un schéma XML, puis l'utiliser pour valider le document <tt>ponctualite-mensuelle-transilien-3.xml</tt> qui y fera référence. Pour cela le plus simple sera encore une fois d'utiliser les possibilités de <a href=\"https://lxml.de/validation.html#xmlschema\">validation via le module lxml</a> depuis un programme python.\n",
    "</div>"
   ]
  },
  {
   "cell_type": "code",
   "execution_count": 5,
   "metadata": {},
   "outputs": [],
   "source": [
    "%pycat ponctualite-mensuelle-transilien.xsd"
   ]
  },
  {
   "cell_type": "code",
   "execution_count": 6,
   "metadata": {
    "util.bundle": "correcteur"
   },
   "outputs": [],
   "source": [
    "# votre code ici"
   ]
  },
  {
   "cell_type": "markdown",
   "metadata": {},
   "source": [
    "__Q11. De plus en plus fort :__\n",
    "<div style=\"background-color:#eef;padding:10px;border-radius:3px\">\n",
    " Agir sur les facettes des types simples pour, tout en restant pertinent, restreindre au maximum la syntaxe autorisée pour les informations présentes dans le document. Le schéma et le document y faisant référence pourront être nommés <tt>ponctualite-mensuelle-transilien-2.xsd</tt> et <tt>ponctualite-mensuelle-transilien-4.xml</tt>.\n",
    "</div>"
   ]
  },
  {
   "cell_type": "code",
   "execution_count": 7,
   "metadata": {
    "collapsed": true
   },
   "outputs": [],
   "source": [
    "%pycat ponctualite-mensuelle-transilien-2.xsd"
   ]
  },
  {
   "cell_type": "code",
   "execution_count": 8,
   "metadata": {
    "util.bundle": "correcteur"
   },
   "outputs": [],
   "source": [
    "# votre code ici"
   ]
  },
  {
   "cell_type": "code",
   "execution_count": 9,
   "metadata": {
    "collapsed": true
   },
   "outputs": [],
   "source": []
  }
 ],
 "metadata": {
  "kernelspec": {
   "display_name": "Python 3",
   "language": "python",
   "name": "python3"
  },
  "language_info": {
   "codemirror_mode": {
    "name": "ipython",
    "version": 3
   },
   "file_extension": ".py",
   "mimetype": "text/x-python",
   "name": "python",
   "nbconvert_exporter": "python",
   "pygments_lexer": "ipython3",
   "version": "3.6.8"
  }
 },
 "nbformat": 4,
 "nbformat_minor": 2
}
